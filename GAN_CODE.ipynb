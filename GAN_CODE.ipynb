{
 "cells": [
  {
   "cell_type": "markdown",
   "metadata": {},
   "source": [
    "## Assignment 1 \n",
    "### G Seshu Babu\n",
    "### CB.EN.P2CEN18003\n"
   ]
  },
  {
   "cell_type": "code",
   "execution_count": 23,
   "metadata": {},
   "outputs": [],
   "source": [
    "import numpy as np\n",
    "import keras\n",
    "import keras.backend as K\n",
    "from keras.layers import Input, Dense, Activation, LeakyReLU, BatchNormalization\n",
    "from keras.models import Sequential\n",
    "from keras.optimizers import Adam\n",
    "from sklearn.model_selection import train_test_split\n",
    "import matplotlib.pyplot as plt\n",
    "from tqdm import tqdm_notebook\n",
    "get_ipython().magic(u'matplotlib inline')\n",
    "\n"
   ]
  },
  {
   "cell_type": "markdown",
   "metadata": {},
   "source": [
    "## Question 1"
   ]
  },
  {
   "cell_type": "code",
   "execution_count": 24,
   "metadata": {},
   "outputs": [],
   "source": [
    "(X_train, y_train), (X_test, y_test) = keras.datasets.mnist.load_data()"
   ]
  },
  {
   "cell_type": "code",
   "execution_count": 25,
   "metadata": {},
   "outputs": [
    {
     "name": "stdout",
     "output_type": "stream",
     "text": [
      "(60000, 28, 28)\n",
      "(60000,)\n",
      "(10000, 28, 28)\n",
      "(10000,)\n",
      "total data = 70000\n",
      "each datasize =  (28, 28)\n",
      "train_split_percent = 85.71428571428571\n",
      "test_split_percent =  14.28571428571429\n",
      "classes according to mnist data = 10\n",
      "classes according to gan architecture =  2\n"
     ]
    }
   ],
   "source": [
    "print(X_train.shape)\n",
    "print(y_train.shape)\n",
    "print(X_test.shape)\n",
    "print(y_test.shape)\n",
    "print(\"total data =\",len(X_train)+len(X_test))\n",
    "print(\"each datasize = \",X_train[0].shape)\n",
    "\n",
    "train_split = len(X_train)/(len(X_train)+len(X_test))\n",
    "print('train_split_percent =',train_split*100)\n",
    "print('test_split_percent = ',(1.0 - train_split)*100)\n",
    "print('classes according to mnist data =',10)\n",
    "print('classes according to gan architecture = ',2)"
   ]
  },
  {
   "cell_type": "markdown",
   "metadata": {},
   "source": [
    "## Question 2"
   ]
  },
  {
   "cell_type": "code",
   "execution_count": 26,
   "metadata": {},
   "outputs": [],
   "source": [
    "def displayData(m,n):\n",
    "    plt.figure(figsize=(m, n))                  \n",
    "    for i in range(m*n):\n",
    "        #print(i) \n",
    "        plt.subplot(n, m, i+1)                      \n",
    "        plt.imshow(X_train[i], cmap='gray')\n",
    "        plt.xticks([])\n",
    "        plt.yticks([])\n",
    "    plt.tight_layout()\n",
    "    plt.show()\n"
   ]
  },
  {
   "cell_type": "code",
   "execution_count": 27,
   "metadata": {},
   "outputs": [
    {
     "data": {
      "image/png": "[encoded data removed]",
      "text/plain": [
       "<Figure size 360x288 with 20 Axes>"
      ]
     },
     "metadata": {},
     "output_type": "display_data"
    }
   ],
   "source": [
    "m = 5\n",
    "n = 4\n",
    "displayData(m,n)"
   ]
  },
  {
   "cell_type": "code",
   "execution_count": 28,
   "metadata": {},
   "outputs": [
    {
     "data": {
      "image/png": "[encoded data removed]",
      "text/plain": [
       "<Figure size 216x144 with 1 Axes>"
      ]
     },
     "metadata": {
      "needs_background": "light"
     },
     "output_type": "display_data"
    },
    {
     "data": {
      "text/plain": [
       "(0, 255)"
      ]
     },
     "execution_count": 28,
     "metadata": {},
     "output_type": "execute_result"
    }
   ],
   "source": [
    "sample = X_train[17]                \n",
    "\n",
    "plt.figure(figsize=(3,2))\n",
    "plt.title(sample.shape)\n",
    "plt.imshow(sample, cmap='gray')\n",
    "plt.show()\n",
    "\n",
    "X_train.min(), X_train.max()"
   ]
  },
  {
   "cell_type": "code",
   "execution_count": 29,
   "metadata": {},
   "outputs": [],
   "source": [
    "def make_latent_samples(n_samples, sample_size):\n",
    "    #return np.random.uniform(-1, 1, size=(n_samples, sample_size))\n",
    "    return np.random.normal(loc=0, scale=1, size=(n_samples, sample_size))"
   ]
  },
  {
   "cell_type": "code",
   "execution_count": 30,
   "metadata": {},
   "outputs": [
    {
     "data": {
      "text/plain": [
       "array([[-0.53880935, -0.56795289,  2.02495837,  1.48823008, -0.30277948,\n",
       "        -1.44130039,  0.64268599,  0.39107508, -0.59632086, -1.2921128 ,\n",
       "         0.44518102, -0.83925823, -1.58308205, -0.0744075 , -0.43196239,\n",
       "        -0.93410313,  0.93705368,  1.02501157, -2.56017463,  2.32717777,\n",
       "        -0.29706253,  1.32757114,  0.28150272, -1.21720034,  0.84586518,\n",
       "        -0.82925157,  1.04504986,  0.47519582, -1.06060392,  0.12203662,\n",
       "        -1.77583674,  0.36469228, -1.21679931,  1.27711591,  0.5348283 ,\n",
       "        -1.76336065, -0.24051451,  0.55903671, -1.83873017,  0.11680997,\n",
       "         2.35566821,  0.06725677,  0.58896006, -0.85837192, -0.27758284,\n",
       "         0.43555304,  0.60465023,  0.43342219,  0.44781576, -2.29238311,\n",
       "        -0.12989699,  1.3995446 ,  0.09025259,  0.4275746 , -1.89105254,\n",
       "        -0.95629806,  0.76156762, -0.57810668, -0.57290161,  0.53352227,\n",
       "        -0.37461254,  0.1227846 ,  1.4045147 , -1.76944835, -1.15319452,\n",
       "         1.06216752,  1.00192135, -0.95155858, -0.67941588, -1.30999836,\n",
       "         1.21516525,  0.55019816, -1.02428747,  0.35785334, -0.00505809,\n",
       "         0.22930069,  0.23687162, -0.44356297,  0.71729484, -1.60314005,\n",
       "        -0.55339908,  1.26363616,  0.00749979,  0.03976057,  0.55555293,\n",
       "         0.51358426,  0.95957657,  0.97599274,  0.32049436,  0.16246379,\n",
       "         1.02486252, -1.10170313, -0.21940894, -1.0849447 , -0.3157901 ,\n",
       "         0.69629441,  0.82841086,  0.02352446,  0.75313641,  0.46534749]])"
      ]
     },
     "execution_count": 30,
     "metadata": {},
     "output_type": "execute_result"
    }
   ],
   "source": [
    "samples = 1\n",
    "sample_size = 100\n",
    "\n",
    "make_latent_samples(samples, sample_size)"
   ]
  },
  {
   "cell_type": "markdown",
   "metadata": {},
   "source": [
    "## Question 3"
   ]
  },
  {
   "cell_type": "code",
   "execution_count": 31,
   "metadata": {},
   "outputs": [
    {
     "name": "stdout",
     "output_type": "stream",
     "text": [
      "No of samples =  1\n",
      "each samplesize =  100\n"
     ]
    }
   ],
   "source": [
    "print('No of samples = ',samples)\n",
    "print('each samplesize = ',sample_size)"
   ]
  },
  {
   "cell_type": "code",
   "execution_count": 32,
   "metadata": {},
   "outputs": [],
   "source": [
    "# for generator hyperparameters\n",
    "g_hidden_size   = 128\n",
    "leaky_alpha     = 0.01\n",
    "input_shape=(sample_size,)\n",
    "out = (len(X_train[0][0]))*(len(X_train[0][1]))\n",
    "# for discriminator hyperparameter\n",
    "d_hidden_size   = 128\n",
    "leaky_alpha     = 0.01\n",
    "inp = (len(X_train[0][0]))*(len(X_train[0][1]))\n"
   ]
  },
  {
   "cell_type": "code",
   "execution_count": 33,
   "metadata": {},
   "outputs": [
    {
     "name": "stdout",
     "output_type": "stream",
     "text": [
      "_________________________________________________________________\n",
      "Layer (type)                 Output Shape              Param #   \n",
      "=================================================================\n",
      "dense_7 (Dense)              (None, 128)               12928     \n",
      "_________________________________________________________________\n",
      "leaky_re_lu_4 (LeakyReLU)    (None, 128)               0         \n",
      "_________________________________________________________________\n",
      "dense_8 (Dense)              (None, 784)               101136    \n",
      "_________________________________________________________________\n",
      "activation_4 (Activation)    (None, 784)               0         \n",
      "=================================================================\n",
      "Total params: 114,064\n",
      "Trainable params: 114,064\n",
      "Non-trainable params: 0\n",
      "_________________________________________________________________\n",
      "imput shape (100,)\n"
     ]
    }
   ],
   "source": [
    "generator = Sequential([\n",
    "    Dense(g_hidden_size, input_shape=(sample_size,)),\n",
    "    LeakyReLU(leaky_alpha),\n",
    "    Dense(out),\n",
    "    Activation('tanh')\n",
    "], name='generator')\n",
    "\n",
    "generator.summary()\n",
    "\n",
    "print(\"imput shape\",input_shape)"
   ]
  },
  {
   "cell_type": "markdown",
   "metadata": {},
   "source": [
    "## Question 4"
   ]
  },
  {
   "cell_type": "code",
   "execution_count": 34,
   "metadata": {},
   "outputs": [],
   "source": [
    "def rand_uniform(p,seed=13):\n",
    "    rand_nos = []\n",
    "    c = 25173\n",
    "    d = 13849\n",
    "    m = 32768\n",
    "    for i in range(n):\n",
    "        seed = (c*seed + d) % m\n",
    "        rand_nos.append(seed/m)\n",
    "    return rand_nos\n"
   ]
  },
  {
   "cell_type": "code",
   "execution_count": 35,
   "metadata": {},
   "outputs": [
    {
     "data": {
      "text/plain": [
       "[0.787017822265625, 0.02227783203125, 0.222503662109375, 0.50732421875]"
      ]
     },
     "execution_count": 35,
     "metadata": {},
     "output_type": "execute_result"
    }
   ],
   "source": [
    "p = 5\n",
    "q = 20\n",
    "rand_uniform(p,q)"
   ]
  },
  {
   "cell_type": "code",
   "execution_count": 36,
   "metadata": {},
   "outputs": [],
   "source": [
    "def rand_normal(p,mean,sd,seed):\n",
    "    rand_nos = []\n",
    "    uni_rn = rand_uniform(n,seed)\n",
    "    for i in range(n):\n",
    "        an = mean+sd* np.sqrt(-2*np.log(uni_rn[i])) *\\\n",
    "                             np.cos(2 * np.pi * uni_rn[i])\n",
    "        rand_nos.append(an)\n",
    "    return rand_nos\n"
   ]
  },
  {
   "cell_type": "code",
   "execution_count": 37,
   "metadata": {},
   "outputs": [
    {
     "data": {
      "text/plain": [
       "[0.15952899712976093,\n",
       " 2.7313414051473486,\n",
       " 0.29802960941944734,\n",
       " -1.1637601713566574]"
      ]
     },
     "execution_count": 37,
     "metadata": {},
     "output_type": "execute_result"
    }
   ],
   "source": [
    "p = 5\n",
    "me = 0\n",
    "sd = 1\n",
    "q = 20\n",
    "rand_normal(p,me,sd,q)"
   ]
  },
  {
   "cell_type": "markdown",
   "metadata": {},
   "source": [
    "## Question 5"
   ]
  },
  {
   "cell_type": "markdown",
   "metadata": {},
   "source": [
    "### The main aim of generator is generating fake data which is similar to real data, coming to architecture it has one input layer, one hidden layer and one output layer which generate data similer to real data.  \n",
    "\n",
    "### input shape = (100,1) =(samp_size,)  which is a random noise vector.\n",
    "### output shape = (784,1)=(out,)  real data size(28,28) converted to vector(784,1). \n",
    "### learnable parameters = 114064\n",
    "### computations = 114064"
   ]
  },
  {
   "cell_type": "code",
   "execution_count": 38,
   "metadata": {},
   "outputs": [
    {
     "name": "stdout",
     "output_type": "stream",
     "text": [
      "_________________________________________________________________\n",
      "Layer (type)                 Output Shape              Param #   \n",
      "=================================================================\n",
      "dense_9 (Dense)              (None, 128)               100480    \n",
      "_________________________________________________________________\n",
      "leaky_re_lu_5 (LeakyReLU)    (None, 128)               0         \n",
      "_________________________________________________________________\n",
      "dense_10 (Dense)             (None, 1)                 129       \n",
      "_________________________________________________________________\n",
      "activation_5 (Activation)    (None, 1)                 0         \n",
      "=================================================================\n",
      "Total params: 100,609\n",
      "Trainable params: 100,609\n",
      "Non-trainable params: 0\n",
      "_________________________________________________________________\n"
     ]
    }
   ],
   "source": [
    "discriminator = Sequential([\n",
    "    Dense(d_hidden_size, input_shape=(inp,)),\n",
    "    LeakyReLU(leaky_alpha),\n",
    "    Dense(1),\n",
    "    Activation('sigmoid')\n",
    "], name='discriminator')\n",
    "\n",
    "discriminator.summary()"
   ]
  },
  {
   "cell_type": "markdown",
   "metadata": {},
   "source": [
    "## Question 6"
   ]
  },
  {
   "cell_type": "markdown",
   "metadata": {},
   "source": [
    "\n",
    "### The main aim of Discriminator is classifing whether given data is fake or real,coming to architecture there is one input layer, one hidden layer and one output layer which classifies real or fake. \n",
    "\n",
    "### input shape = (784,1)  is a real data of size(28,28) convert to(784,1) vector.\n",
    "### output shape = (1,1) real data or fake_generated data.\n",
    "### learnable parameters = 100609\n",
    "### computations = 100609"
   ]
  },
  {
   "cell_type": "markdown",
   "metadata": {},
   "source": [
    "##  Question 7"
   ]
  },
  {
   "cell_type": "markdown",
   "metadata": {},
   "source": [
    "### Relations between Generator and discriminator ?\n",
    "\n",
    "### Generator part is generate(create) data which seems as similar as real data but not real data and pass this fake data to Discriminator.\n",
    "\n",
    "### At the same time we pass real data to Discriminator. \n",
    "\n",
    "### Now, coming to discriminator part, it's aim is to classify(classifier) whether the given data is fake or real. "
   ]
  },
  {
   "cell_type": "code",
   "execution_count": 39,
   "metadata": {},
   "outputs": [
    {
     "name": "stdout",
     "output_type": "stream",
     "text": [
      "_________________________________________________________________\n",
      "Layer (type)                 Output Shape              Param #   \n",
      "=================================================================\n",
      "generator (Sequential)       (None, 784)               114064    \n",
      "_________________________________________________________________\n",
      "discriminator (Sequential)   (None, 1)                 100609    \n",
      "=================================================================\n",
      "Total params: 214,673\n",
      "Trainable params: 214,673\n",
      "Non-trainable params: 0\n",
      "_________________________________________________________________\n"
     ]
    }
   ],
   "source": [
    "gan = Sequential([\n",
    "    generator,\n",
    "    discriminator\n",
    "])\n",
    "\n",
    "gan.summary()\n"
   ]
  },
  {
   "cell_type": "code",
   "execution_count": 40,
   "metadata": {},
   "outputs": [],
   "source": [
    "def make_trainable(model, trainable):\n",
    "    for layer in model.layers:\n",
    "        layer.trainable = trainable\n"
   ]
  },
  {
   "cell_type": "code",
   "execution_count": 41,
   "metadata": {},
   "outputs": [
    {
     "name": "stdout",
     "output_type": "stream",
     "text": [
      "_________________________________________________________________\n",
      "Layer (type)                 Output Shape              Param #   \n",
      "=================================================================\n",
      "dense_9 (Dense)              (None, 128)               100480    \n",
      "_________________________________________________________________\n",
      "leaky_re_lu_5 (LeakyReLU)    (None, 128)               0         \n",
      "_________________________________________________________________\n",
      "dense_10 (Dense)             (None, 1)                 129       \n",
      "_________________________________________________________________\n",
      "activation_5 (Activation)    (None, 1)                 0         \n",
      "=================================================================\n",
      "Total params: 100,609\n",
      "Trainable params: 0\n",
      "Non-trainable params: 100,609\n",
      "_________________________________________________________________\n"
     ]
    }
   ],
   "source": [
    "make_trainable(discriminator, False)\n",
    "discriminator.summary()"
   ]
  },
  {
   "cell_type": "code",
   "execution_count": 42,
   "metadata": {},
   "outputs": [
    {
     "name": "stdout",
     "output_type": "stream",
     "text": [
      "_________________________________________________________________\n",
      "Layer (type)                 Output Shape              Param #   \n",
      "=================================================================\n",
      "dense_9 (Dense)              (None, 128)               100480    \n",
      "_________________________________________________________________\n",
      "leaky_re_lu_5 (LeakyReLU)    (None, 128)               0         \n",
      "_________________________________________________________________\n",
      "dense_10 (Dense)             (None, 1)                 129       \n",
      "_________________________________________________________________\n",
      "activation_5 (Activation)    (None, 1)                 0         \n",
      "=================================================================\n",
      "Total params: 100,609\n",
      "Trainable params: 100,609\n",
      "Non-trainable params: 0\n",
      "_________________________________________________________________\n"
     ]
    }
   ],
   "source": [
    "make_trainable(discriminator, True)\n",
    "discriminator.summary()\n"
   ]
  },
  {
   "cell_type": "code",
   "execution_count": 43,
   "metadata": {},
   "outputs": [],
   "source": [
    "def make_simple_GAN(sample_size, \n",
    "                    g_hidden_size, \n",
    "                    d_hidden_size, \n",
    "                    leaky_alpha, \n",
    "                    g_learning_rate,\n",
    "                    d_learning_rate):\n",
    "    \n",
    "    K.clear_session()\n",
    "    \n",
    "    generator = Sequential([\n",
    "        Dense(g_hidden_size, input_shape=(sample_size,)),\n",
    "        LeakyReLU(alpha=leaky_alpha),\n",
    "        Dense(784),        \n",
    "        Activation('tanh')\n",
    "    ], name='generator')    \n",
    "\n",
    "    discriminator = Sequential([\n",
    "        Dense(d_hidden_size, input_shape=(784,)),\n",
    "        LeakyReLU(alpha=leaky_alpha),\n",
    "        Dense(1),\n",
    "        Activation('sigmoid')\n",
    "    ], name='discriminator')    \n",
    "    \n",
    "    gan = Sequential([\n",
    "        generator,\n",
    "        discriminator\n",
    "    ])\n",
    "    \n",
    "    discriminator.compile(optimizer=Adam(lr=d_learning_rate), loss='binary_crossentropy')\n",
    "    gan.compile(optimizer=Adam(lr=g_learning_rate), loss='binary_crossentropy')\n",
    "    \n",
    "    return gan, generator, discriminator \n"
   ]
  },
  {
   "cell_type": "code",
   "execution_count": 44,
   "metadata": {},
   "outputs": [],
   "source": [
    "def preprocess(x):    \n",
    "    x = x.reshape(-1, 784) # 784=28*28\n",
    "    print(x.shape)\n",
    "    x = np.float64(x)\n",
    "    x = (x / 255 - 0.5) * 2\n",
    "    x = np.clip(x, -1, 1)\n",
    "    #print(x)\n",
    "    return x\n"
   ]
  },
  {
   "cell_type": "code",
   "execution_count": 45,
   "metadata": {},
   "outputs": [
    {
     "name": "stdout",
     "output_type": "stream",
     "text": [
      "(60000, 784)\n",
      "(10000, 784)\n"
     ]
    }
   ],
   "source": [
    "X_train_real = preprocess(X_train)\n",
    "X_test_real  = preprocess(X_test)"
   ]
  },
  {
   "cell_type": "markdown",
   "metadata": {},
   "source": [
    "## Question 8"
   ]
  },
  {
   "cell_type": "markdown",
   "metadata": {},
   "source": [
    "### Initally we reshape 3D(60000,28,28) to 2D(60000,784) by converting image(28,28) to a vector(784,) in above function we reshape to(-1,784) here -1 give last image index value(60000) and 784 is each image shape(28,28).\n",
    "### the main aim is to normalize the pixels(0,255) to range(-1,1).\n",
    "### clip method used to change values less then -1 takes as -1 and value greater then 1 takes as 1 when we use numpy.clip(data,-1,1)"
   ]
  },
  {
   "cell_type": "code",
   "execution_count": 46,
   "metadata": {},
   "outputs": [
    {
     "name": "stdout",
     "output_type": "stream",
     "text": [
      "1.0\n",
      "-1.0\n"
     ]
    }
   ],
   "source": [
    "print(X_train_real.max())\n",
    "print(X_train_real.min())"
   ]
  },
  {
   "cell_type": "code",
   "execution_count": 47,
   "metadata": {},
   "outputs": [],
   "source": [
    "def deprocess(x):\n",
    "    x = (x / 2 + 1) * 255\n",
    "    x = np.clip(x, 0, 255)\n",
    "    x = np.uint8(x)\n",
    "    x = x.reshape(28, 28)\n",
    "    return x\n"
   ]
  },
  {
   "cell_type": "code",
   "execution_count": 48,
   "metadata": {},
   "outputs": [],
   "source": [
    "def realData(m,n):\n",
    "    plt.figure(figsize=(5, 4))\n",
    "    for i in range(20):\n",
    "        img = deprocess(X_train_real[i])\n",
    "        plt.subplot(4, 5, i+1)\n",
    "        plt.imshow(img, cmap='gray')\n",
    "        plt.xticks([])\n",
    "        plt.yticks([])\n",
    "    #print(plt.yticks([]))\n",
    "    plt.tight_layout()\n",
    "    plt.show()\n"
   ]
  },
  {
   "cell_type": "code",
   "execution_count": 49,
   "metadata": {},
   "outputs": [
    {
     "data": {
      "image/png": "[encoded data removed]",
      "text/plain": [
       "<Figure size 360x288 with 20 Axes>"
      ]
     },
     "metadata": {},
     "output_type": "display_data"
    }
   ],
   "source": [
    "m = 5\n",
    "n = 4\n",
    "realData(m,n)"
   ]
  },
  {
   "cell_type": "code",
   "execution_count": 50,
   "metadata": {},
   "outputs": [],
   "source": [
    "def make_labels(size):\n",
    "    return np.ones([size, 1]), np.zeros([size, 1])"
   ]
  },
  {
   "cell_type": "code",
   "execution_count": 51,
   "metadata": {},
   "outputs": [
    {
     "data": {
      "text/plain": [
       "(array([[1.],\n",
       "        [1.],\n",
       "        [1.],\n",
       "        [1.],\n",
       "        [1.],\n",
       "        [1.],\n",
       "        [1.],\n",
       "        [1.],\n",
       "        [1.],\n",
       "        [1.]]), array([[0.],\n",
       "        [0.],\n",
       "        [0.],\n",
       "        [0.],\n",
       "        [0.],\n",
       "        [0.],\n",
       "        [0.],\n",
       "        [0.],\n",
       "        [0.],\n",
       "        [0.]]))"
      ]
     },
     "execution_count": 51,
     "metadata": {},
     "output_type": "execute_result"
    }
   ],
   "source": [
    "y_real_10, y_fake_10 = make_labels(10)\n",
    "\n",
    "y_real_10, y_fake_10"
   ]
  },
  {
   "cell_type": "markdown",
   "metadata": {},
   "source": [
    "## Question 9"
   ]
  },
  {
   "cell_type": "markdown",
   "metadata": {},
   "source": [
    "### Here, size defines as number of real data and fake data, in above data they took 10 data samples to make understand\n",
    "### In GAN model, we are classifing real or fake, that is real as 1(one), fake as 0(zero)\n",
    "### So here we are creating 10(ten) 1's(ones) vector and 10(ten) 0's(zeros) vector using numpy\n",
    "### making 1's as real label and 0's as fake label"
   ]
  },
  {
   "cell_type": "markdown",
   "metadata": {},
   "source": [
    "## Question 11"
   ]
  },
  {
   "cell_type": "code",
   "execution_count": 52,
   "metadata": {},
   "outputs": [
    {
     "name": "stderr",
     "output_type": "stream",
     "text": [
      "W0802 13:12:34.801032  6940 deprecation_wrapper.py:119] From C:\\Users\\seshubabu\\Anaconda3\\lib\\site-packages\\keras\\backend\\tensorflow_backend.py:95: The name tf.reset_default_graph is deprecated. Please use tf.compat.v1.reset_default_graph instead.\n",
      "\n",
      "W0802 13:12:34.802005  6940 deprecation_wrapper.py:119] From C:\\Users\\seshubabu\\Anaconda3\\lib\\site-packages\\keras\\backend\\tensorflow_backend.py:98: The name tf.placeholder_with_default is deprecated. Please use tf.compat.v1.placeholder_with_default instead.\n",
      "\n",
      "W0802 13:12:34.858043  6940 deprecation_wrapper.py:119] From C:\\Users\\seshubabu\\Anaconda3\\lib\\site-packages\\keras\\optimizers.py:790: The name tf.train.Optimizer is deprecated. Please use tf.compat.v1.train.Optimizer instead.\n",
      "\n",
      "W0802 13:12:34.865024  6940 deprecation.py:323] From C:\\Users\\seshubabu\\Anaconda3\\lib\\site-packages\\tensorflow\\python\\ops\\nn_impl.py:180: add_dispatch_support.<locals>.wrapper (from tensorflow.python.ops.array_ops) is deprecated and will be removed in a future version.\n",
      "Instructions for updating:\n",
      "Use tf.where in 2.0, which has the same broadcast rule as np.where\n",
      "C:\\Users\\seshubabu\\Anaconda3\\lib\\site-packages\\keras\\engine\\training.py:490: UserWarning: Discrepancy between trainable weights and collected trainable weights, did you set `model.trainable` without calling `model.compile` after ?\n",
      "  'Discrepancy between trainable weights and collected trainable'\n"
     ]
    },
    {
     "name": "stdout",
     "output_type": "stream",
     "text": [
      "Epoch:   1/20 Discriminator Loss: 0.1205 Generator Loss: 3.5826\n",
      "Epoch:   2/20 Discriminator Loss: 1.4529 Generator Loss: 0.3357\n",
      "Epoch:   3/20 Discriminator Loss: 0.1822 Generator Loss: 2.6572\n",
      "Epoch:   4/20 Discriminator Loss: 0.2387 Generator Loss: 4.7042\n",
      "Epoch:   5/20 Discriminator Loss: 0.2350 Generator Loss: 2.0863\n",
      "Epoch:   6/20 Discriminator Loss: 0.4572 Generator Loss: 3.0637\n",
      "Epoch:   7/20 Discriminator Loss: 0.4442 Generator Loss: 3.4869\n",
      "Epoch:   8/20 Discriminator Loss: 0.5607 Generator Loss: 1.1694\n",
      "Epoch:   9/20 Discriminator Loss: 0.1893 Generator Loss: 2.6737\n",
      "Epoch:  10/20 Discriminator Loss: 0.2953 Generator Loss: 3.2582\n"
     ]
    },
    {
     "data": {
      "image/png": "[encoded data removed]",
      "text/plain": [
       "<Figure size 432x288 with 1 Axes>"
      ]
     },
     "metadata": {
      "needs_background": "light"
     },
     "output_type": "display_data"
    },
    {
     "name": "stdout",
     "output_type": "stream",
     "text": [
      "Epoch:  11/20 Discriminator Loss: 0.1687 Generator Loss: 5.2116\n",
      "Epoch:  12/20 Discriminator Loss: 0.5078 Generator Loss: 2.0888\n",
      "Epoch:  13/20 Discriminator Loss: 0.3985 Generator Loss: 5.0910\n",
      "Epoch:  14/20 Discriminator Loss: 0.2085 Generator Loss: 3.5196\n",
      "Epoch:  15/20 Discriminator Loss: 0.3470 Generator Loss: 1.8139\n",
      "Epoch:  16/20 Discriminator Loss: 0.3124 Generator Loss: 2.4517\n",
      "Epoch:  17/20 Discriminator Loss: 0.6696 Generator Loss: 3.9847\n",
      "Epoch:  18/20 Discriminator Loss: 0.4674 Generator Loss: 3.5774\n",
      "Epoch:  19/20 Discriminator Loss: 0.5920 Generator Loss: 3.3144\n",
      "Epoch:  20/20 Discriminator Loss: 0.5149 Generator Loss: 2.6932\n"
     ]
    },
    {
     "data": {
      "image/png": "[encoded data removed]",
      "text/plain": [
       "<Figure size 432x288 with 1 Axes>"
      ]
     },
     "metadata": {
      "needs_background": "light"
     },
     "output_type": "display_data"
    }
   ],
   "source": [
    "# hyperparameters\n",
    "sample_size     = 100   \n",
    "g_hidden_size   = 128\n",
    "d_hidden_size   = 128\n",
    "leaky_alpha     = 0.01\n",
    "g_learning_rate = 0.0001\n",
    "d_learning_rate = 0.001 \n",
    "\n",
    "epochs          = 20\n",
    "\n",
    "batch_size      = 64\n",
    "eval_size       = 16  \n",
    "\n",
    "smooth          = 0.1\n",
    "\n",
    "# create a GAN, a generator and a discriminator\n",
    "gan, generator, discriminator = make_simple_GAN(\n",
    "    sample_size, \n",
    "    g_hidden_size, \n",
    "    d_hidden_size, \n",
    "    leaky_alpha, \n",
    "    g_learning_rate,\n",
    "    d_learning_rate)\n",
    "\n",
    "y_train_real, y_train_fake = make_labels(batch_size)\n",
    "y_eval_real,  y_eval_fake  = make_labels(eval_size)\n",
    "\n",
    "\n",
    "\n",
    "losses = []\n",
    "\n",
    "for e in range(epochs):\n",
    "    for i in range(len(X_train_real)//batch_size):\n",
    "        \n",
    "        X_batch_real = X_train_real[i*batch_size:(i+1)*batch_size]\n",
    "        \n",
    "        latent_samples = make_latent_samples(batch_size, sample_size)\n",
    "        X_batch_fake = generator.predict_on_batch(latent_samples)\n",
    "        \n",
    "        make_trainable(discriminator, True)\n",
    "        discriminator.train_on_batch(X_batch_real, y_train_real * (1 - smooth))\n",
    "        discriminator.train_on_batch(X_batch_fake, y_train_fake)\n",
    "        \n",
    "        make_trainable(discriminator, False)\n",
    "        gan.train_on_batch(latent_samples, y_train_real)\n",
    "        \n",
    "    X_eval_real = X_test_real[np.random.choice(len(X_test_real), eval_size, replace=False)]\n",
    "    \n",
    "    latent_samples = make_latent_samples(eval_size, sample_size)\n",
    "    X_eval_fake = generator.predict_on_batch(latent_samples)\n",
    "    \n",
    "    d_loss  = discriminator.test_on_batch(X_eval_real, y_eval_real)\n",
    "    d_loss += discriminator.test_on_batch(X_eval_fake, y_eval_fake)\n",
    "    g_loss  = gan.test_on_batch(latent_samples, y_eval_real)\n",
    "    \n",
    "    losses.append((d_loss, g_loss))\n",
    "    print(\"Epoch: {:>3}/{} Discriminator Loss: {:>6.4f} Generator Loss: {:>6.4f}\".format(\n",
    "        e+1, epochs, d_loss, g_loss)) \n",
    "    \n",
    "    if ((e+1)%10 == 0):\n",
    "        loss_ = np.array(losses)\n",
    "            \n",
    "        fig, ax = plt.subplots()\n",
    "        plt.plot(loss_.T[0], label='Discriminator')\n",
    "        plt.plot(loss_.T[1], label='Generator')\n",
    "        plt.title(\"Training Losses\")\n",
    "        plt.legend()\n",
    "        plt.show()\n",
    "        \n"
   ]
  },
  {
   "cell_type": "markdown",
   "metadata": {},
   "source": [
    "## Question 10"
   ]
  },
  {
   "cell_type": "markdown",
   "metadata": {},
   "source": [
    "### sample_size = Random noise vector \n",
    "### g_hidden_size\n",
    "### d_hidden_size\n",
    "### leaky alpha\n",
    "### d_learning_rate\n",
    "### g_learning_rate"
   ]
  },
  {
   "cell_type": "code",
   "execution_count": 53,
   "metadata": {},
   "outputs": [
    {
     "data": {
      "image/png": "[encoded data removed]",
      "text/plain": [
       "<Figure size 720x576 with 20 Axes>"
      ]
     },
     "metadata": {},
     "output_type": "display_data"
    }
   ],
   "source": [
    "latent_samples = make_latent_samples(20, sample_size)\n",
    "generated_digits = generator.predict(latent_samples)\n",
    "\n",
    "plt.figure(figsize=(10, 8))\n",
    "for i in range(20):\n",
    "    img = deprocess(generated_digits[i])\n",
    "    plt.subplot(4, 5, i+1)\n",
    "    plt.imshow(img, cmap='gray')\n",
    "    plt.xticks([])\n",
    "    plt.yticks([])\n",
    "plt.tight_layout()\n",
    "plt.show()\n"
   ]
  },
  {
   "cell_type": "markdown",
   "metadata": {},
   "source": [
    "## question 12"
   ]
  },
  {
   "cell_type": "markdown",
   "metadata": {},
   "source": [
    "## steps of work flow of GAN"
   ]
  },
  {
   "cell_type": "markdown",
   "metadata": {},
   "source": [
    "### generate sample minibatch of m noise samples (which are fake images) \n",
    "### choose minibatch of m real images from your dataset\n",
    "### train the discriminator with m * 2 (both real and fake) images by freezing generator part\n",
    "### then is discriminator only update\n",
    "### then freez the discriminator and run the gan\n",
    "### repeat 1 to 4 for all minibatches\n",
    "### train the generator by freezing discriminator\n",
    "### then update the generator \n",
    "### train this for many epochs"
   ]
  },
  {
   "cell_type": "code",
   "execution_count": null,
   "metadata": {},
   "outputs": [],
   "source": []
  }
 ],
 "metadata": {
  "kernelspec": {
   "display_name": "Python 3",
   "language": "python",
   "name": "python3"
  },
  "language_info": {
   "codemirror_mode": {
    "name": "ipython",
    "version": 3
   },
   "file_extension": ".py",
   "mimetype": "text/x-python",
   "name": "python",
   "nbconvert_exporter": "python",
   "pygments_lexer": "ipython3",
   "version": "3.7.3"
  }
 },
 "nbformat": 4,
 "nbformat_minor": 2
}
